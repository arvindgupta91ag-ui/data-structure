{
  "nbformat": 4,
  "nbformat_minor": 0,
  "metadata": {
    "colab": {
      "provenance": []
    },
    "kernelspec": {
      "name": "python3",
      "display_name": "Python 3"
    },
    "language_info": {
      "name": "python"
    }
  },
  "cells": [
    {
      "cell_type": "markdown",
      "source": [
        "data structure theoritical qustions - answer"
      ],
      "metadata": {
        "id": "2tjHBvJ-PV2q"
      }
    },
    {
      "cell_type": "markdown",
      "source": [
        "1. What Are Data Structures,Why They're Important?\n",
        "\n",
        "  \n",
        ":-  Data structures are ways of organizing and storing data in a computer so that\n",
        "\n",
        "it can be accessed and modified efficiently. They're like containers, each designed for a specific type of task, and they determine how data flows through a program.\n",
        "\n",
        " Why They're Important\n",
        " Think of data structures as the unsung architects behind every smart algorithm. They’re essential because:\n",
        "\n",
        "Efficiency Boost: The right data structure can drastically improve a program’s performance—faster searches, smoother sorting, speedier computation.\n",
        "\n",
        "Problem Solving: Some problems can't even be solved without the right data structure (try writing a routing algorithm without a graph—ouch).\n",
        "\n",
        "Memory Management: They help manage memory wisely so a program doesn’t crash or slow down.\n",
        "\n",
        "Organized Logic: They bring clarity and order to complex programs, making development, debugging, and updates far easier."
      ],
      "metadata": {
        "id": "skmuBkquPXcN"
      }
    },
    {
      "cell_type": "markdown",
      "source": [
        " 2.Explain the difference between mutable and immutable data types with examples.\n",
        "\n",
        "\n",
        ":-  mutable mean can alterd(modification,add,remove,etc)after creation.\n",
        "Examples:\n",
        "\n",
        "list: You can append, remove, or change items.\n",
        "\n",
        "python\n",
        "fruits = ['apple', 'banana']\n",
        "fruits.append('mango')  # Now: ['apple', 'banana', 'mango']\n",
        "dict: You can add new key-value pairs or update existing ones.\n",
        "\n",
        "python\n",
        "info = {'name': 'Amit'}\n",
        "info['age'] = 30  # Now: {'name': 'Amit', 'age': 30}\n",
        "immutable can't be alterd(modification,add,remove,etc)after creation.\n",
        "\n",
        "str: Strings can't be changed directly.\n",
        "name = \"Ravi\"\n",
        "name[0] = 'K'  # Error: strings are immutable\n",
        "tuple: Like a list, but unchangeable.\n",
        "\n",
        "python\n",
        "coords = (10, 20)\n",
        "coords[0] = 30  #  Error\n"
      ],
      "metadata": {
        "id": "Gk3_zrrOPXY0"
      }
    },
    {
      "cell_type": "markdown",
      "source": [
        "3.What are the main differences between lists and tuples in Python\n",
        "\n",
        ":-   list can be change after ceation but tuples can't be change once created"
      ],
      "metadata": {
        "id": "TKmfAZfTPXWg"
      }
    },
    {
      "cell_type": "markdown",
      "source": [
        "4. Describe how dictionaries store data.\n",
        "\n",
        "\n",
        ":-  A dictionary in Python is like a mini filing cabinet, storing data in key-value pairs. It’s optimized for super-fast lookup based on the key—rather than searching through everything like a list might do."
      ],
      "metadata": {
        "id": "2pIl58X8PVzM"
      }
    },
    {
      "cell_type": "markdown",
      "source": [
        "5. Why might you use a set instead of a list in Python.\n",
        "\n",
        ":-   Use a set when...\n",
        "\n",
        "You need unique elements Sets automatically eliminate duplicates.\n",
        "\n",
        "names = [\"Ali\", \"Ravi\", \"Ali\"]\n",
        "unique_names = set(names)  # {'Ali', 'Ravi'}\n",
        "You want fast membership checking Sets are optimized for checking if an element exists.\n",
        "\n",
        "if \"Ravi\" in unique_names:\n",
        "    print(\"He's in the group!\")  # Fast lookup\n",
        "You want to perform set operations Like union, intersection, difference — helpful in math-like data tasks.\n",
        "a = {1, 2, 3}\n",
        "b = {3, 4, 5}\n",
        "print(a & b)  # {3}"
      ],
      "metadata": {
        "id": "sAwBfHT1PVnD"
      }
    },
    {
      "cell_type": "markdown",
      "source": [
        "6.What is a string in Python, and how is it different from a list.\n",
        "\n",
        "\n",
        "\n",
        ":-  A string is a sequence of characters, used for storing and manipulating text.\n",
        "\n",
        "message = \"Hello World\"\n",
        "print(message[0])  # Output: 'H'\n",
        "Always stores textual data\n",
        "\n",
        "Each character has an index: 'H' = message[0], 'e' = message[1], etc.\n",
        "\n",
        "Written with quotes: \"text\" or 'text'\n",
        "\n",
        "Immutable: You can’t change characters directly\n",
        "list stores any type of data and can be change after creation."
      ],
      "metadata": {
        "id": "Ful5Bm1IPVjn"
      }
    },
    {
      "cell_type": "markdown",
      "source": [
        "7. How do tuples ensure data integrity in Python.\n",
        "\n",
        "\n",
        ":-  tuples play vital role maintaining integrating data\n",
        ". Immutability by Design\n",
        "Once a tuple is created, its elements cannot be changed, added, or removed.\n",
        "\n",
        "This guarantees that data stored in a tuple remains consistent and unchanged throughout your program.\n",
        "\n",
        "Example:\n",
        "\n",
        "config = (\"localhost\", 8080)\n",
        "# config[0] = \"127.0.0.1\" # This will raise a TypeError\n",
        "  Safe for Hashing and Dictionary Keys\n",
        "Because they're immutable, tuples can be used as keys in dictionaries—unlike lists.\n",
        "\n",
        "This ensures key-based access to values remains stable and predictable.\n",
        "\n",
        "Example:\n",
        "\n",
        "location = (25.276987, 55.296249)\n",
        "places = {location: \"Dubai\"}\n",
        "When used as function parameters or return values, tuples prevent accidental modifications.\n",
        "\n",
        "This is especially helpful when passing configuration data, coordinates, or other sensitive values.\n",
        "\n"
      ],
      "metadata": {
        "id": "1zcBd30mPVgv"
      }
    },
    {
      "cell_type": "markdown",
      "source": [
        "8. What is a hash table, and how does it relate to dictionaries in Python.\n",
        "\n",
        "\n",
        ":-  A hash table is a fundamental data structure that stores key-value pairs and allows ultra-fast data retrieval. The secret sauce? It uses a hashing function to convert a key (like a string or number) into a specific index in a table (usually an array). This means instead of scanning through a bunch of data, it jumps straight to where your item lives.\n",
        "\n",
        "How Hash Tables Work (In Simple Terms)\n",
        "Hash Function: Transforms a key into an index.\n",
        "\n",
        "Table (Array): Stores values at these computed indices.\n",
        "\n",
        "Collision Handling: If two keys hash to the same index, strategies like chaining (linked lists) or open addressing resolve it.\n",
        "How Python Dictionaries Use Hash Tables\n",
        "In Python, a dict is a built-in implementation of a hash table:\n",
        "\n",
        "Keys are hashed using Python’s internal hash function.\n",
        "\n",
        "Values are stored at the resulting index.\n",
        "\n",
        "Lookup, insertion, and deletion typically happen in constant time — O(1) on average."
      ],
      "metadata": {
        "id": "bAJ49HXEPVei"
      }
    },
    {
      "cell_type": "markdown",
      "source": [
        "9. Can lists contain different data types in Python.\n",
        "\n",
        "\n",
        ":-  Python lists are heterogenous by nature, meaning they can hold elements of different data types all in one list. That's one of the things that makes Python super flexible.\n"
      ],
      "metadata": {
        "id": "8zrbJoefPVbB"
      }
    },
    {
      "cell_type": "markdown",
      "source": [
        "10. Explain why strings are immutable in Python.\n",
        "\n",
        "\n",
        "\n",
        ":-  string cant be change once created\n",
        " 1. Immutability Preserves Memory Efficiency\n",
        " 2. Safe and Predictable Behavior\n",
        " 3. Strings as Hashable Objects\n",
        " 4. Avoids Complex Internal Logic\n",
        "\n"
      ],
      "metadata": {
        "id": "TMJPdtcnPVYb"
      }
    },
    {
      "cell_type": "markdown",
      "source": [
        "11.What advantages do dictionaries offer over lists for certain tasks.\n",
        "\n",
        "\n",
        "\n",
        ":-  While both are versatile tools in Python, dictionaries often shine brighter when the task involves relationships between data—especially when fast lookup and clear structure matter. Here’s why:\n",
        "\n",
        " 1. Faster Lookups\n",
        "Dictionaries use hash tables, so retrieving a value by its key is extremely fast—typically O(1).\n",
        "\n",
        "Lists, on the other hand, require linear search—O(n)—when you’re hunting for a particular value.\n",
        " 2. Clear Data Mapping\n",
        "Dicts let you describe relationships between keys and values (e.g., name → score).\n",
        "\n",
        "Lists are just ordered groups—no inherent connection between elements unless you manually manage it.\n",
        "\n",
        " 3. Unique Keys Ensure Data Integrity\n",
        "Duplicate keys aren’t allowed in dictionaries, which avoids overwriting or misinterpreting data.\n",
        "\n",
        "Lists, however, allow duplicates freely.\n",
        "\n",
        " 4. Dynamic Updates\n",
        "Updating or adding data is straightforward with dicts—just set a new key or update an existing one.\n",
        "\n",
        "In lists, you often have to search, then modify or append carefully.\n"
      ],
      "metadata": {
        "id": "GEQaW-P0PVSd"
      }
    },
    {
      "cell_type": "markdown",
      "source": [
        "12. Describe a scenario where using a tuple would be preferable over a list.\n",
        "\n",
        "\n",
        "\n",
        ":-  tules can't be change accidentialy so its preferable\n",
        "\n",
        "Why a List Would Be Riskier\n",
        "A list might get accidentally modified or reordered, changing the meaning.\n",
        "\n",
        "Lists consume slightly more memory and aren't hashable, so you couldn't use them as dictionary keys.\n"
      ],
      "metadata": {
        "id": "bKJNz-ybPVPl"
      }
    },
    {
      "cell_type": "markdown",
      "source": [
        "13. How do sets handle duplicate values in Python.\n",
        "\n",
        "\n",
        "\n",
        ":-  Python sets are like the bouncers of data structures—they don’t let duplicates through the door. A set is an unordered collection of unique, immutable elements, and its core behavior is to automatically discard duplicates.\n",
        "\n",
        "If you try to add duplicate elements to a set, Python will simply ignore them. The set keeps only one instance of each unique item."
      ],
      "metadata": {
        "id": "I7FKWQtrPVMi"
      }
    },
    {
      "cell_type": "markdown",
      "source": [
        "14. How does the “in” keyword work differently for lists and dictionaries.\n",
        "\n",
        "\n",
        "\n",
        ":-  The “in” Keyword: Double Duty Across Data Types\n",
        "\n",
        "The in keyword is one of Python’s most versatile operators—but its behavior subtly shifts depending on the data structure it’s working with.\n",
        "\n",
        " For Lists: Searches Through Values\n",
        "The in keyword checks whether an item exists among the elements of the list.\n",
        "\n",
        "Python performs a linear scan through the list—so it can be slow for large lists.\n",
        "\n",
        "For Dictionaries: Looks Only at Keys\n",
        "The in keyword checks whether a given item is a key, not a value.\n",
        "\n",
        "Since dictionaries use hash tables, this lookup is much faster—on average, O(1).\n"
      ],
      "metadata": {
        "id": "I-_E6hh1PVJr"
      }
    },
    {
      "cell_type": "markdown",
      "source": [
        "15. Can you modify the elements of a tuple? Explain why or why not.\n",
        "\n",
        "\n",
        "\n",
        ":-  Tuples Are Immutable\n",
        "In Python, a tuple is defined as an immutable sequence.\n",
        "\n",
        "Once created, you cannot change, add, remove, or reorder its elements.\n",
        "\n",
        "Trying to do so will raise a TypeError.\n",
        "Integrity & Safety\n",
        "\n",
        "Tuples protect data from accidental changes—ideal for things like config settings, fixed coordinates, etc.\n",
        "\n",
        "Hashability\n",
        "\n",
        "Because they’re immutable, tuples are hashable, so you can use them as dictionary keys or set elements.\n",
        "\n",
        "Performance Boosts\n",
        "\n",
        "Tuples are lighter and faster to process than lists due to their fixed nature.\n",
        "\n",
        "Clarity of Intent\n",
        "\n",
        "When you use a tuple, it signals: “This data should not change”—making your code easier to understand."
      ],
      "metadata": {
        "id": "foVnDk7sPVG-"
      }
    },
    {
      "cell_type": "markdown",
      "source": [
        "16. What is a nested dictionary, and give an example of its use case.\n",
        "\n",
        "\n",
        "\n",
        ":-  A nested dictionary is simply a dictionary that contains another dictionary as a value. Think of it like a mini-database or a multi-level structure for organizing complex data.\n",
        "\n",
        "Real-World Use Case: School Management System\n",
        "Imagine you’re building a simple system to manage student records:\n",
        "\n",
        "Outer dictionary: maps student names to their profile.\n",
        "\n",
        "Inner dictionary: stores profile details like age, grade, attendance, etc.\n",
        "\n",
        "Benefits:\n",
        "\n",
        "Keeps related data grouped together.\n",
        "\n",
        "Makes retrieval of specific fields easy.\n",
        "\n",
        "Enables hierarchical organization."
      ],
      "metadata": {
        "id": "bBncrPRgPVEL"
      }
    },
    {
      "cell_type": "markdown",
      "source": [
        "17. Describe the time complexity of accessing elements in a dictionary.\n",
        "\n",
        "\n",
        "\n",
        ":-  Time Complexity of Dictionary Access in Python: Surprisingly Fast\n",
        "\n",
        "Accessing elements in a Python dictionary is generally a constant-time operation — that means:\n",
        "\n",
        " Time Complexity: O(1)\n",
        "On average, retrieving a value using a key (like my_dict[key]) takes constant time.\n",
        "\n",
        "Thanks to Python’s hash table implementation, you can jump directly to the correct value without scanning everything.\n",
        "\n",
        " How It Works\n",
        "Python hashes the key and uses it to calculate an index.\n",
        "\n",
        "This index leads directly to where the value is stored.\n",
        "\n",
        "So, no loops or searches — just a direct leap to the data.\n",
        "\n",
        "When It’s Not Constant\n",
        "In rare cases, hash collisions or internal resizing of the dictionary could slow things down.\n",
        "\n",
        "In worst-case scenarios (like poorly distributed hashes), lookup can take O(n) time — but Python has optimized this extremely well."
      ],
      "metadata": {
        "id": "EcqkLGsGPVBj"
      }
    },
    {
      "cell_type": "markdown",
      "source": [
        "18. In what situations are lists preferred over dictionaries\n",
        "\n",
        "\n",
        ":-  While dictionaries are amazing for mapping and fast lookups, lists shine in scenarios where sequence, order, or duplication play a key role."
      ],
      "metadata": {
        "id": "tz83PlJUPU-4"
      }
    },
    {
      "cell_type": "markdown",
      "source": [
        "19. Why are dictionaries considered unordered, and how does that affect data retrieval.\n",
        "\n",
        "\n",
        ":-  Why Dictionaries Were Considered Unordered—and What That Really Means\n",
        "\n",
        "Historically, dictionaries in Python were considered unordered collections. This meant that the order of key-value pairs wasn’t guaranteed and could vary across executions or versions. However, Python has evolved!\n",
        "\n",
        " So What Does \"Unordered\" Mean Now?\n",
        "The term is more about theoretical abstraction:\n",
        "\n",
        "Dictionaries are not indexed by position like lists.\n",
        "\n",
        "You don’t retrieve items by index dict[0], but by key: dict[\"one\"].\n",
        "\n",
        "If you care about exact order for display or sorting, it's better to be explicit using OrderedDict or sorting functions."
      ],
      "metadata": {
        "id": "oU5lBSD7PU8E"
      }
    },
    {
      "cell_type": "markdown",
      "source": [
        "20. Explain the difference between a list and a dictionary in terms of data retrieval.\n",
        "\n",
        ":-   List vs. Dictionary: Data Retrieval Demystified\n",
        "\n",
        "Python lists and dictionaries are both powerful, but they approach data storage and access very differently. Here's how their data retrieval strategies contrast:\n",
        "\n",
        " Lists: Position-Based Retrieval\n",
        "Elements in a list are accessed using integer indices (i.e., positions).\n",
        "\n",
        "Retrieval involves navigating to a specific position in the ordered sequence.\n",
        "\n",
        "Time complexity: O(1) for direct access (if index is known), but O(n) for searching an item.\n",
        "\n",
        " Dictionaries: Key-Based Retrieval\n",
        "Elements are accessed using unique keys (like strings or numbers).\n",
        "\n",
        "Internally uses a hash table for super-fast key lookups.\n",
        "\n",
        "Time complexity: O(1) on average — fast regardless of dictionary size.\n"
      ],
      "metadata": {
        "id": "N45ORfavPU5c"
      }
    },
    {
      "cell_type": "markdown",
      "source": [
        "   .\n",
        "\n",
        "\n",
        "\n",
        "\n",
        "   ."
      ],
      "metadata": {
        "id": "dSaXbD1-PU2t"
      }
    },
    {
      "cell_type": "markdown",
      "source": [
        "Data structure practical assignment"
      ],
      "metadata": {
        "id": "-NOi_riNkCa-"
      }
    },
    {
      "cell_type": "markdown",
      "source": [
        "1.Write a code to create a string with your name and print it"
      ],
      "metadata": {
        "id": "sPFEiWHnkXCP"
      }
    },
    {
      "cell_type": "code",
      "source": [
        "a=\"arvind\"\n",
        "print(a)"
      ],
      "metadata": {
        "colab": {
          "base_uri": "https://localhost:8080/"
        },
        "id": "o8-42Bl5kbLi",
        "outputId": "2ac0e880-8690-4d25-ac60-2b5f509a02ae"
      },
      "execution_count": null,
      "outputs": [
        {
          "output_type": "stream",
          "name": "stdout",
          "text": [
            "arvind\n"
          ]
        }
      ]
    },
    {
      "cell_type": "markdown",
      "source": [
        " 2.Write a code to find the length of the string \"Hello World\"\n"
      ],
      "metadata": {
        "id": "5JN9hibVkmNX"
      }
    },
    {
      "cell_type": "code",
      "source": [
        "a=\"Hello World\"\n",
        "print(len(a))"
      ],
      "metadata": {
        "colab": {
          "base_uri": "https://localhost:8080/"
        },
        "id": "mKISUhLKk1gh",
        "outputId": "1e97533c-4838-4ed8-9b7d-86dba33cca77"
      },
      "execution_count": null,
      "outputs": [
        {
          "output_type": "stream",
          "name": "stdout",
          "text": [
            "11\n"
          ]
        }
      ]
    },
    {
      "cell_type": "markdown",
      "source": [
        "3.Write a code to slice the first 3 characters from the string \"Python Programming\"\n"
      ],
      "metadata": {
        "id": "aSB9G-PhlATM"
      }
    },
    {
      "cell_type": "code",
      "source": [
        "a= \"Python Programming\"\n",
        "a[0:3]"
      ],
      "metadata": {
        "colab": {
          "base_uri": "https://localhost:8080/",
          "height": 36
        },
        "id": "h3h00zKXlNfu",
        "outputId": "86eb00c0-e72c-4767-a2cc-e74b85341337"
      },
      "execution_count": null,
      "outputs": [
        {
          "output_type": "execute_result",
          "data": {
            "text/plain": [
              "'Pyt'"
            ],
            "application/vnd.google.colaboratory.intrinsic+json": {
              "type": "string"
            }
          },
          "metadata": {},
          "execution_count": 3
        }
      ]
    },
    {
      "cell_type": "markdown",
      "source": [
        " 4.Write a code to convert the string \"hello\" to uppercase"
      ],
      "metadata": {
        "id": "3ttZdWqLkPgt"
      }
    },
    {
      "cell_type": "code",
      "execution_count": null,
      "metadata": {
        "colab": {
          "base_uri": "https://localhost:8080/",
          "height": 36
        },
        "id": "PMSBKjHEkA5p",
        "outputId": "ee29d8b6-f25c-4011-bd82-769c5bacacfc"
      },
      "outputs": [
        {
          "output_type": "execute_result",
          "data": {
            "text/plain": [
              "'HELLO'"
            ],
            "application/vnd.google.colaboratory.intrinsic+json": {
              "type": "string"
            }
          },
          "metadata": {},
          "execution_count": 5
        }
      ],
      "source": [
        "a=\"hello\"\n",
        "a.upper()"
      ]
    },
    {
      "cell_type": "markdown",
      "source": [
        "5.Write a code to replace the word \"apple\" with \"orange\" in the string \"I like apple\"\n"
      ],
      "metadata": {
        "id": "i7UnyMMEluNx"
      }
    },
    {
      "cell_type": "code",
      "source": [
        "a=\"I like apple\"\n",
        "a.replace(\"apple\",\"orange\")"
      ],
      "metadata": {
        "colab": {
          "base_uri": "https://localhost:8080/",
          "height": 36
        },
        "id": "HC4ZJQQ4l4GP",
        "outputId": "e5eae784-fc9a-4121-c812-aedabcb7be7f"
      },
      "execution_count": null,
      "outputs": [
        {
          "output_type": "execute_result",
          "data": {
            "text/plain": [
              "'I like orange'"
            ],
            "application/vnd.google.colaboratory.intrinsic+json": {
              "type": "string"
            }
          },
          "metadata": {},
          "execution_count": 6
        }
      ]
    },
    {
      "cell_type": "markdown",
      "source": [
        "6.Write a code to create a list with numbers 1 to 5 and print it"
      ],
      "metadata": {
        "id": "Th4HtUKqmF7Z"
      }
    },
    {
      "cell_type": "code",
      "source": [
        "a=[1,2,3,4,5]\n",
        "print(a)\n",
        "numbers = list(range(1, 6))\n",
        "print(numbers)\n"
      ],
      "metadata": {
        "colab": {
          "base_uri": "https://localhost:8080/"
        },
        "id": "earuyYiwmK1k",
        "outputId": "8fc41807-7d4c-496b-fc26-cddf8860452c"
      },
      "execution_count": null,
      "outputs": [
        {
          "output_type": "stream",
          "name": "stdout",
          "text": [
            "[1, 2, 3, 4, 5]\n",
            "[1, 2, 3, 4, 5]\n"
          ]
        }
      ]
    },
    {
      "cell_type": "markdown",
      "source": [
        " 7.Write a code to append the number 10 to the list [1, 2, 3, 4]\n"
      ],
      "metadata": {
        "id": "Ffsv_lWomvQA"
      }
    },
    {
      "cell_type": "code",
      "source": [
        "a=[1,2,3,4]\n",
        "a.append(10)\n",
        "print(a)\n"
      ],
      "metadata": {
        "colab": {
          "base_uri": "https://localhost:8080/"
        },
        "id": "htL5fk2Bm4cA",
        "outputId": "df52d50c-1972-472c-ad30-934656461829"
      },
      "execution_count": null,
      "outputs": [
        {
          "output_type": "stream",
          "name": "stdout",
          "text": [
            "[1, 2, 3, 4, 10]\n"
          ]
        }
      ]
    },
    {
      "cell_type": "markdown",
      "source": [
        "8.Write a code to remove the number 3 from the list [1, 2, 3, 4, 5]\n"
      ],
      "metadata": {
        "id": "NIwO0LpHm8-1"
      }
    },
    {
      "cell_type": "code",
      "source": [
        "list=[1, 2, 3, 4, 5]\n",
        "list.remove(3)\n",
        "print(list)"
      ],
      "metadata": {
        "colab": {
          "base_uri": "https://localhost:8080/"
        },
        "id": "oDXvS2odm8tq",
        "outputId": "480c693b-879d-4eb6-f1ff-487bbb556b55"
      },
      "execution_count": null,
      "outputs": [
        {
          "output_type": "stream",
          "name": "stdout",
          "text": [
            "[1, 2, 4, 5]\n"
          ]
        }
      ]
    },
    {
      "cell_type": "markdown",
      "source": [
        " 9.Write a code to access the second element in the list ['a', 'b', 'c', 'd']"
      ],
      "metadata": {
        "id": "oehy0_Yqm8bq"
      }
    },
    {
      "cell_type": "code",
      "source": [
        "list=['a', 'b', 'c', 'd']\n",
        "list[1]"
      ],
      "metadata": {
        "colab": {
          "base_uri": "https://localhost:8080/",
          "height": 36
        },
        "id": "Z7DSP4rMm8L7",
        "outputId": "d3b60940-e989-493f-bbb5-a24769f76a33"
      },
      "execution_count": null,
      "outputs": [
        {
          "output_type": "execute_result",
          "data": {
            "text/plain": [
              "'b'"
            ],
            "application/vnd.google.colaboratory.intrinsic+json": {
              "type": "string"
            }
          },
          "metadata": {},
          "execution_count": 12
        }
      ]
    },
    {
      "cell_type": "markdown",
      "source": [
        "10.Write a code to reverse the list [10, 20, 30, 40, 50].\n"
      ],
      "metadata": {
        "id": "yRb5rIWIm78F"
      }
    },
    {
      "cell_type": "code",
      "source": [
        " list=[10, 20, 30, 40, 50]\n",
        " list.reverse()\n",
        " print(list)"
      ],
      "metadata": {
        "colab": {
          "base_uri": "https://localhost:8080/"
        },
        "id": "1NFtt6IQm7rt",
        "outputId": "14d57a01-dc1e-4d1c-dbb9-68f2884b3848"
      },
      "execution_count": null,
      "outputs": [
        {
          "output_type": "stream",
          "name": "stdout",
          "text": [
            "[50, 40, 30, 20, 10]\n"
          ]
        }
      ]
    },
    {
      "cell_type": "markdown",
      "source": [
        "11.Write a code to create a tuple with the elements 100, 200, 300 and print it."
      ],
      "metadata": {
        "id": "SifZQTXjm7aR"
      }
    },
    {
      "cell_type": "code",
      "source": [
        "tuple=(100, 200, 300 )\n",
        "print(tuple)"
      ],
      "metadata": {
        "colab": {
          "base_uri": "https://localhost:8080/"
        },
        "id": "cMdHvti3m7JH",
        "outputId": "db298427-c4b3-41c8-f1de-f4974f335583"
      },
      "execution_count": null,
      "outputs": [
        {
          "output_type": "stream",
          "name": "stdout",
          "text": [
            "(100, 200, 300)\n"
          ]
        }
      ]
    },
    {
      "cell_type": "markdown",
      "source": [
        "12.Write a code to access the second-to-last element of the tuple ('red', 'green', 'blue', 'yellow').\n"
      ],
      "metadata": {
        "id": "pFKtFpphm62Q"
      }
    },
    {
      "cell_type": "code",
      "source": [
        "tuple=('red', 'green', 'blue', 'yellow')\n",
        "tuple[-2]"
      ],
      "metadata": {
        "colab": {
          "base_uri": "https://localhost:8080/",
          "height": 36
        },
        "id": "B5gTxLp0m6mL",
        "outputId": "79c5e2cf-56fd-43e2-d04d-435d5b172679"
      },
      "execution_count": null,
      "outputs": [
        {
          "output_type": "execute_result",
          "data": {
            "text/plain": [
              "'blue'"
            ],
            "application/vnd.google.colaboratory.intrinsic+json": {
              "type": "string"
            }
          },
          "metadata": {},
          "execution_count": 17
        }
      ]
    },
    {
      "cell_type": "markdown",
      "source": [
        " 13.Write a code to find the minimum number in the tuple (10, 20, 5, 15).\n"
      ],
      "metadata": {
        "id": "yXhKhSB3m6R4"
      }
    },
    {
      "cell_type": "code",
      "source": [
        "tuple=(10, 20, 5, 15)\n",
        "min(tuple)"
      ],
      "metadata": {
        "colab": {
          "base_uri": "https://localhost:8080/"
        },
        "id": "1E8qWDFqqFOx",
        "outputId": "acb5786b-7efa-4326-d722-1a6f1c3d4ba5"
      },
      "execution_count": null,
      "outputs": [
        {
          "output_type": "execute_result",
          "data": {
            "text/plain": [
              "5"
            ]
          },
          "metadata": {},
          "execution_count": 20
        }
      ]
    },
    {
      "cell_type": "markdown",
      "source": [
        "14.Write a code to find the index of the element \"cat\" in the tuple ('dog', 'cat', 'rabbit').\n"
      ],
      "metadata": {
        "id": "BYUO9gTcqJKE"
      }
    },
    {
      "cell_type": "code",
      "source": [
        "animal= ('dog', 'cat', 'rabbit')\n",
        "animal.index('cat')"
      ],
      "metadata": {
        "colab": {
          "base_uri": "https://localhost:8080/"
        },
        "id": "nxV2_3YpqI58",
        "outputId": "db5a7689-2647-425a-9d8d-34c260f42ac5"
      },
      "execution_count": null,
      "outputs": [
        {
          "output_type": "execute_result",
          "data": {
            "text/plain": [
              "1"
            ]
          },
          "metadata": {},
          "execution_count": 22
        }
      ]
    },
    {
      "cell_type": "markdown",
      "source": [
        "15.Write a code to create a tuple containing three different fruits and check if \"kiwi\" is in it.\n"
      ],
      "metadata": {
        "id": "Ljg7chGFqIn6"
      }
    },
    {
      "cell_type": "code",
      "source": [
        "fruits = ('apple','mango','kiwi')\n",
        "#check 'kiwi' is in the tuple\n",
        "if 'kiwi' in fruits:\n",
        "    print(\"yes\")\n",
        "else:\n",
        "    print(\"no\")"
      ],
      "metadata": {
        "colab": {
          "base_uri": "https://localhost:8080/"
        },
        "id": "viMovX2eqIXC",
        "outputId": "79ab4265-576f-4923-cbce-eb0cc722a023"
      },
      "execution_count": null,
      "outputs": [
        {
          "output_type": "stream",
          "name": "stdout",
          "text": [
            "yes\n"
          ]
        }
      ]
    },
    {
      "cell_type": "markdown",
      "source": [
        "16.Write a code to create a set with the elements 'a', 'b', 'c' and print it.\n"
      ],
      "metadata": {
        "id": "zWQ7eiptqIH4"
      }
    },
    {
      "cell_type": "code",
      "source": [
        "set={'a', 'b', 'c'}\n",
        "print(set)"
      ],
      "metadata": {
        "colab": {
          "base_uri": "https://localhost:8080/"
        },
        "id": "cc0kwJ4oqH4V",
        "outputId": "30cfb791-903a-4102-8984-024876eff057"
      },
      "execution_count": null,
      "outputs": [
        {
          "output_type": "stream",
          "name": "stdout",
          "text": [
            "{'b', 'c', 'a'}\n"
          ]
        }
      ]
    },
    {
      "cell_type": "markdown",
      "source": [
        "17.Write a code to clear all elements from the set {1, 2, 3, 4, 5}.\n"
      ],
      "metadata": {
        "id": "AZfezbk8qHnY"
      }
    },
    {
      "cell_type": "code",
      "source": [
        "set={1, 2, 3, 4, 5}\n",
        "set.clear()\n",
        "print(set)"
      ],
      "metadata": {
        "colab": {
          "base_uri": "https://localhost:8080/"
        },
        "id": "Pkr5mP7cqHXe",
        "outputId": "be0f88e4-6c36-4495-b28a-eb6746e91788"
      },
      "execution_count": null,
      "outputs": [
        {
          "output_type": "stream",
          "name": "stdout",
          "text": [
            "set()\n"
          ]
        }
      ]
    },
    {
      "cell_type": "markdown",
      "source": [
        "18.Write a code to remove the element 4 from the set {1, 2, 3, 4}.\n"
      ],
      "metadata": {
        "id": "-MszF68WqHII"
      }
    },
    {
      "cell_type": "code",
      "source": [
        " set={1, 2, 3, 4}\n",
        " set.remove(4)\n",
        " print(set)"
      ],
      "metadata": {
        "colab": {
          "base_uri": "https://localhost:8080/"
        },
        "id": "-7HrevJkqG2s",
        "outputId": "4febb19d-7dc9-41f4-c281-45211127edcf"
      },
      "execution_count": null,
      "outputs": [
        {
          "output_type": "stream",
          "name": "stdout",
          "text": [
            "{1, 2, 3}\n"
          ]
        }
      ]
    },
    {
      "cell_type": "markdown",
      "source": [
        "19.Write a code to find the union of two sets {1, 2, 3} and {3, 4, 5}.\n"
      ],
      "metadata": {
        "id": "yUr5SV-BqGlA"
      }
    },
    {
      "cell_type": "code",
      "source": [
        "a={1, 2, 3}\n",
        "b={3, 4, 5}\n",
        "a.union(b)"
      ],
      "metadata": {
        "colab": {
          "base_uri": "https://localhost:8080/"
        },
        "id": "U6xsSoY9qGUQ",
        "outputId": "97a75f33-40b4-4fe4-bec3-e5e05951bbc6"
      },
      "execution_count": null,
      "outputs": [
        {
          "output_type": "execute_result",
          "data": {
            "text/plain": [
              "{1, 2, 3, 4, 5}"
            ]
          },
          "metadata": {},
          "execution_count": 44
        }
      ]
    },
    {
      "cell_type": "markdown",
      "source": [
        "20.Write a code to find the intersection of two sets {1, 2, 3} and {2, 3, 4}.\n"
      ],
      "metadata": {
        "id": "0qHJr2CEqGC2"
      }
    },
    {
      "cell_type": "code",
      "source": [
        "a={1, 2, 3}\n",
        "b={2, 3, 4}\n",
        "a.intersection(b)"
      ],
      "metadata": {
        "colab": {
          "base_uri": "https://localhost:8080/"
        },
        "id": "NXAatbYPqF0A",
        "outputId": "32016e0f-c5b0-4b53-d8b8-98c914b02717"
      },
      "execution_count": null,
      "outputs": [
        {
          "output_type": "execute_result",
          "data": {
            "text/plain": [
              "{2, 3}"
            ]
          },
          "metadata": {},
          "execution_count": 45
        }
      ]
    },
    {
      "cell_type": "markdown",
      "source": [
        "21.Write a code to create a dictionary with the keys \"name\", \"age\", and \"city\", and print it.\n"
      ],
      "metadata": {
        "id": "w4tFYAA1qFjG"
      }
    },
    {
      "cell_type": "code",
      "source": [
        "dic={\n",
        "    \"name\":\"arvind\",\n",
        "    \"age\":24,\n",
        "    \"city\":\"itkhori\"\n",
        "    }\n",
        "print(dic)"
      ],
      "metadata": {
        "colab": {
          "base_uri": "https://localhost:8080/"
        },
        "id": "0a6rk8qXzWUs",
        "outputId": "b3d65120-bd25-4b94-d9a2-d5a4ccdf7c04"
      },
      "execution_count": null,
      "outputs": [
        {
          "output_type": "stream",
          "name": "stdout",
          "text": [
            "{'name': 'arvind', 'age': 24, 'city': 'itkhori'}\n"
          ]
        }
      ]
    },
    {
      "cell_type": "markdown",
      "source": [
        "22.Write a code to add a new key-value pair \"country\": \"USA\" to the dictionary {'name': 'John', 'age': 25}.\n"
      ],
      "metadata": {
        "id": "GirctCBDzaKx"
      }
    },
    {
      "cell_type": "code",
      "source": [
        "dic={\n",
        "    \"name\":\"john\",\n",
        "    \"age\":25,\n",
        "    }\n",
        "print(dic)\n",
        "#adding a new vlue\n",
        "dic[\"country\"]=\"USA\"\n",
        "print(dic)"
      ],
      "metadata": {
        "colab": {
          "base_uri": "https://localhost:8080/"
        },
        "id": "zsotJiopzZ2g",
        "outputId": "6dfb722e-1b5e-440a-a1e5-5e771b9009db"
      },
      "execution_count": null,
      "outputs": [
        {
          "output_type": "stream",
          "name": "stdout",
          "text": [
            "{'name': 'john', 'age': 25}\n",
            "{'name': 'john', 'age': 25, 'country': 'USA'}\n"
          ]
        }
      ]
    },
    {
      "cell_type": "markdown",
      "source": [
        "23.Write a code to access the value associated with the key \"name\" in the dictionary {'name': 'Alice', 'age': 30}.\n"
      ],
      "metadata": {
        "id": "AobZ1MLEzZQt"
      }
    },
    {
      "cell_type": "code",
      "source": [
        "dic={\n",
        "    \"name\":\"Alice\",\n",
        "    \"age\":30,\n",
        "    }\n",
        "dic[\"name\"]"
      ],
      "metadata": {
        "colab": {
          "base_uri": "https://localhost:8080/",
          "height": 36
        },
        "id": "kPi3SXAezY_z",
        "outputId": "6a29e657-c0fb-4f24-bd7e-bfde38dc45b3"
      },
      "execution_count": null,
      "outputs": [
        {
          "output_type": "execute_result",
          "data": {
            "text/plain": [
              "'Alice'"
            ],
            "application/vnd.google.colaboratory.intrinsic+json": {
              "type": "string"
            }
          },
          "metadata": {},
          "execution_count": 62
        }
      ]
    },
    {
      "cell_type": "markdown",
      "source": [
        "24.Write a code to remove the key \"age\" from the dictionary {'name': 'Bob', 'age': 22, 'city': 'New York'}.\n"
      ],
      "metadata": {
        "id": "W3WMUHAXzYr-"
      }
    },
    {
      "cell_type": "code",
      "source": [
        "dic={\n",
        "    \"name\":\"bob\",\n",
        "     \"age\":22,\n",
        "     \"city\":\"new york\"\n",
        "     }\n",
        "dic.pop(\"age\")\n",
        "print(dic)"
      ],
      "metadata": {
        "colab": {
          "base_uri": "https://localhost:8080/"
        },
        "id": "DVVov9FPzYKo",
        "outputId": "486e1eec-656a-4def-c02a-a40d646d934c"
      },
      "execution_count": null,
      "outputs": [
        {
          "output_type": "stream",
          "name": "stdout",
          "text": [
            "{'name': 'bob', 'city': 'new york'}\n"
          ]
        }
      ]
    },
    {
      "cell_type": "markdown",
      "source": [
        "25.Write a code to check if the key \"city\" exists in the dictionary {'name': 'Alice', 'city': 'Paris'}.\n"
      ],
      "metadata": {
        "id": "c-7rVmuMzX6y"
      }
    },
    {
      "cell_type": "code",
      "source": [
        "dic={\n",
        "    \"name\":\"alice\",\n",
        "    \"city\":\"paris\"\n",
        "}\n",
        "if \"city\" in  dic:\n",
        "    print(\"yes\")\n",
        "else:\n",
        "        print(\"no\")"
      ],
      "metadata": {
        "colab": {
          "base_uri": "https://localhost:8080/"
        },
        "id": "Y_qcCERyzXr6",
        "outputId": "4cc948f8-3d0e-487a-a2d8-7aa569a306ed"
      },
      "execution_count": null,
      "outputs": [
        {
          "output_type": "stream",
          "name": "stdout",
          "text": [
            "yes\n"
          ]
        }
      ]
    },
    {
      "cell_type": "markdown",
      "source": [
        "26.Write a code to create a list, a tuple, and a dictionary, and print them all."
      ],
      "metadata": {
        "id": "ffEKOd4ozXby"
      }
    },
    {
      "cell_type": "code",
      "source": [
        "list=[1,2,3,4,5]\n",
        "print(list)\n",
        "tuple=(1,2,3,4,5)\n",
        "print(tuple)\n",
        "dic={\n",
        "    \"name\":\"arvind\",\n",
        "    \"age\":24,\n",
        "    \"city\":\"itkhori\"\n",
        "    }\n",
        "print(dic)"
      ],
      "metadata": {
        "colab": {
          "base_uri": "https://localhost:8080/"
        },
        "id": "1-DlRTJmzXL5",
        "outputId": "cfc15b2e-290a-4549-c3f7-0625d18b60e3"
      },
      "execution_count": null,
      "outputs": [
        {
          "output_type": "stream",
          "name": "stdout",
          "text": [
            "[1, 2, 3, 4, 5]\n",
            "(1, 2, 3, 4, 5)\n",
            "{'name': 'arvind', 'age': 24, 'city': 'itkhori'}\n"
          ]
        }
      ]
    },
    {
      "cell_type": "markdown",
      "source": [
        " 27. Write a code to create a list of 5 random numbers between 1 and 100, sort it in ascending order, and print the result.(replaced)\n",
        "\n"
      ],
      "metadata": {
        "id": "pvJBKbydzW3H"
      }
    },
    {
      "cell_type": "code",
      "source": [
        "list=[5,10,17,88,99]\n",
        "list.sort()\n",
        "print(list)"
      ],
      "metadata": {
        "colab": {
          "base_uri": "https://localhost:8080/"
        },
        "id": "ozd2jCDm9KFr",
        "outputId": "b64ec419-57f0-4523-b65f-b1b5632f4aac"
      },
      "execution_count": null,
      "outputs": [
        {
          "output_type": "stream",
          "name": "stdout",
          "text": [
            "[5, 10, 17, 88, 99]\n"
          ]
        }
      ]
    },
    {
      "cell_type": "markdown",
      "source": [
        "28.Write a code to create a list with strings and print the element at the third index.\n"
      ],
      "metadata": {
        "id": "jRqYQ_qx91I4"
      }
    },
    {
      "cell_type": "code",
      "source": [
        "list=[\"itkhori\",\"3.5\",\"ranchi\",\"5\",]\n",
        "list[3]"
      ],
      "metadata": {
        "colab": {
          "base_uri": "https://localhost:8080/",
          "height": 36
        },
        "id": "YprIgVVI91cb",
        "outputId": "79b08a77-333a-4761-82a7-74065ff65176"
      },
      "execution_count": null,
      "outputs": [
        {
          "output_type": "execute_result",
          "data": {
            "text/plain": [
              "'5'"
            ],
            "application/vnd.google.colaboratory.intrinsic+json": {
              "type": "string"
            }
          },
          "metadata": {},
          "execution_count": 80
        }
      ]
    },
    {
      "cell_type": "markdown",
      "source": [
        "29.Write a code to combine two dictionaries into one and print the result.\n"
      ],
      "metadata": {
        "id": "G6x00ero90e5"
      }
    },
    {
      "cell_type": "code",
      "source": [
        "dic1={\n",
        "    \"name\":\"arvind\",\n",
        "    \"age\":24,\n",
        "    \"city\":\"itkhori\"\n",
        "    }\n",
        "dic2={\n",
        "    \"class\":\"x\",\n",
        "    \"rank\":2,\n",
        "    \"rewards\":\"car\"\n",
        "    }\n",
        "\n",
        "dic1.update(dic2)\n",
        "print(dic1)"
      ],
      "metadata": {
        "colab": {
          "base_uri": "https://localhost:8080/"
        },
        "id": "ajWGffTg900D",
        "outputId": "686330d8-26be-428d-82fa-8135913d2bfb"
      },
      "execution_count": null,
      "outputs": [
        {
          "output_type": "stream",
          "name": "stdout",
          "text": [
            "{'name': 'arvind', 'age': 24, 'city': 'itkhori', 'class': 'x', 'rank': 2, 'rewards': 'car'}\n"
          ]
        }
      ]
    },
    {
      "cell_type": "markdown",
      "source": [
        "30.Write a code to convert a list of strings into a set."
      ],
      "metadata": {
        "id": "dKWqo1Sq9zzt"
      }
    },
    {
      "cell_type": "code",
      "source": [
        "a=[\"ranchi\",\"arvind\",\"itkhori\"]\n",
        "print(a)\n",
        "type(a)\n",
        "#converting into set\n",
        "b=set(a)\n",
        "print(b)\n",
        "type(b)\n"
      ],
      "metadata": {
        "colab": {
          "base_uri": "https://localhost:8080/"
        },
        "id": "b8RstV0NEQv8",
        "outputId": "3e52516f-0fcb-418b-8481-856565213672"
      },
      "execution_count": null,
      "outputs": [
        {
          "output_type": "stream",
          "name": "stdout",
          "text": [
            "['ranchi', 'arvind', 'itkhori']\n"
          ]
        },
        {
          "output_type": "execute_result",
          "data": {
            "text/plain": [
              "list"
            ]
          },
          "metadata": {},
          "execution_count": 108
        }
      ]
    }
  ]
}